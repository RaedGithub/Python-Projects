{
 "cells": [
  {
   "cell_type": "code",
   "execution_count": null,
   "metadata": {},
   "outputs": [],
   "source": [
    "import boto3\n",
    "from datetime import date\n",
    "from datetime import datetime\n",
    "\n"
   ]
  },
  {
   "cell_type": "code",
   "execution_count": null,
   "metadata": {},
   "outputs": [],
   "source": [
    "day = date(2023, 1, 12)"
   ]
  },
  {
   "cell_type": "code",
   "execution_count": null,
   "metadata": {},
   "outputs": [],
   "source": [
    "day = day.strftime(\"%d%m%Y\")"
   ]
  },
  {
   "cell_type": "code",
   "execution_count": null,
   "metadata": {},
   "outputs": [],
   "source": [
    "today = datetime.today()"
   ]
  },
  {
   "cell_type": "code",
   "execution_count": null,
   "metadata": {},
   "outputs": [],
   "source": [
    "todays_date = today.strftime(\"%d%m%Y\")"
   ]
  },
  {
   "cell_type": "code",
   "execution_count": null,
   "metadata": {},
   "outputs": [],
   "source": [
    "s3_client = boto3.client('s3')"
   ]
  },
  {
   "cell_type": "code",
   "execution_count": null,
   "metadata": {},
   "outputs": [],
   "source": [
    "bucket_name = \"raed-organise-s3-objects\""
   ]
  },
  {
   "cell_type": "code",
   "execution_count": null,
   "metadata": {},
   "outputs": [],
   "source": [
    "list_objects_response = s3_client.list_objects_v2(\n",
    "    Bucket=bucket_name\n",
    ")"
   ]
  },
  {
   "cell_type": "code",
   "execution_count": null,
   "metadata": {},
   "outputs": [],
   "source": [
    "get_contents = list_objects_response.get(\"Contents\")"
   ]
  },
  {
   "cell_type": "code",
   "execution_count": null,
   "metadata": {},
   "outputs": [],
   "source": [
    "get_all_s3_objects_and_folder_names = []\n",
    "\n",
    "for item in get_contents:\n",
    "    s3_object_name = item.get(\"Key\")\n",
    "\n",
    "    get_all_s3_objects_and_folder_names.append(s3_object_name)"
   ]
  },
  {
   "cell_type": "code",
   "execution_count": null,
   "metadata": {},
   "outputs": [],
   "source": [
    "day_name = day + \"/\""
   ]
  },
  {
   "cell_type": "code",
   "execution_count": null,
   "metadata": {},
   "outputs": [],
   "source": [
    "directory_name = todays_date + \"/\""
   ]
  },
  {
   "cell_type": "code",
   "execution_count": null,
   "metadata": {},
   "outputs": [],
   "source": [
    "if directory_name not in get_all_s3_objects_and_folder_names:\n",
    "    s3_client.put_object(\n",
    "        Bucket=bucket_name,\n",
    "        Key=(directory_name)\n",
    "    )"
   ]
  },
  {
   "cell_type": "code",
   "execution_count": null,
   "metadata": {},
   "outputs": [],
   "source": [
    "if day_name not in get_all_s3_objects_and_folder_names:\n",
    "    s3_client.put_object(Bucket=bucket_name,\n",
    "    Key=(day_name)\n",
    "    )\n",
    " "
   ]
  },
  {
   "cell_type": "code",
   "execution_count": null,
   "metadata": {},
   "outputs": [],
   "source": [
    "for item in get_contents:\n",
    "    object_creation_date = item.get(\"LastModified\").strftime(\"%d%m%Y\") + \"/\"\n",
    "    object_name = item.get(\"Key\")\n",
    "\n",
    "    if object_creation_date == directory_name and \"/\" not in object_name:\n",
    "        s3_client.copy_object(Bucket=bucket_name,\n",
    "        CopySource=bucket_name+\"/\"+object_name,\n",
    "        Key=directory_name+object_name)\n",
    "        s3_client.delete_object(Bucket=bucket_name,\n",
    "        Key=object_name)\n",
    "\n",
    "    if object_creation_date == day_name and \"/\" not in object_name:\n",
    "        s3_client.copy_object(Bucket=bucket_name,\n",
    "        CopySource=bucket_name+\"/\"+object_name,\n",
    "        Key=day_name+object_name)\n",
    "        s3_client.delete_object(Bucket=bucket_name,\n",
    "        Key=object_name)\n"
   ]
  }
 ],
 "metadata": {
  "kernelspec": {
   "display_name": "Python 3",
   "language": "python",
   "name": "python3"
  },
  "language_info": {
   "codemirror_mode": {
    "name": "ipython",
    "version": 3
   },
   "file_extension": ".py",
   "mimetype": "text/x-python",
   "name": "python",
   "nbconvert_exporter": "python",
   "pygments_lexer": "ipython3",
   "version": "3.10.7"
  },
  "orig_nbformat": 4,
  "vscode": {
   "interpreter": {
    "hash": "5d5ebcb9d1e2bcb1d6fd2e3dddc407b77a5d264639308a8e63ddb6747a13b606"
   }
  }
 },
 "nbformat": 4,
 "nbformat_minor": 2
}
